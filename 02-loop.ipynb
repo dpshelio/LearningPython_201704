{
 "cells": [
  {
   "cell_type": "code",
   "execution_count": 3,
   "metadata": {
    "collapsed": false
   },
   "outputs": [
    {
     "name": "stdout",
     "output_type": "stream",
     "text": [
      "o\n",
      "x\n",
      "y\n",
      "g\n"
     ]
    }
   ],
   "source": [
    "word = 'oxygen'\n",
    "print(word[0])\n",
    "print(word[1])\n",
    "print(word[2])\n",
    "print(word[3])"
   ]
  },
  {
   "cell_type": "code",
   "execution_count": 7,
   "metadata": {
    "collapsed": false,
    "scrolled": false
   },
   "outputs": [
    {
     "name": "stdout",
     "output_type": "stream",
     "text": [
      "p\n",
      "n\n",
      "e\n",
      "u\n",
      "m\n",
      "o\n",
      "u\n",
      "l\n",
      "t\n",
      "r\n",
      "a\n",
      "m\n",
      "i\n",
      "c\n",
      "r\n",
      "o\n",
      "s\n",
      "c\n",
      "o\n",
      "p\n",
      "i\n",
      "c\n",
      "s\n",
      "i\n",
      "l\n",
      "i\n",
      "c\n",
      "o\n",
      "l\n",
      "c\n",
      "a\n",
      "n\n",
      "o\n",
      "c\n",
      "o\n",
      "n\n",
      "i\n",
      "o\n",
      "s\n",
      "i\n",
      "s\n"
     ]
    }
   ],
   "source": [
    "word = \"pneumoultramicroscopicsilicolcanoconiosis\"\n",
    "for character in word:\n",
    "    print(character)\n"
   ]
  },
  {
   "cell_type": "code",
   "execution_count": 8,
   "metadata": {
    "collapsed": false
   },
   "outputs": [
    {
     "name": "stdout",
     "output_type": "stream",
     "text": [
      "p\n",
      "n\n",
      "e\n",
      "u\n",
      "m\n",
      "o\n",
      "u\n",
      "l\n",
      "t\n",
      "r\n",
      "a\n",
      "m\n",
      "i\n",
      "c\n",
      "r\n",
      "o\n",
      "s\n",
      "c\n",
      "o\n",
      "p\n",
      "i\n",
      "c\n",
      "s\n",
      "i\n",
      "l\n",
      "i\n",
      "c\n",
      "o\n",
      "l\n",
      "c\n",
      "a\n",
      "n\n",
      "o\n",
      "c\n",
      "o\n",
      "n\n",
      "i\n",
      "o\n",
      "s\n",
      "i\n",
      "s\n"
     ]
    }
   ],
   "source": [
    "for bananas in word:\n",
    "    print(bananas)"
   ]
  },
  {
   "cell_type": "code",
   "execution_count": 12,
   "metadata": {
    "collapsed": false
   },
   "outputs": [
    {
     "name": "stdout",
     "output_type": "stream",
     "text": [
      "there are  41 letters in word\n"
     ]
    }
   ],
   "source": [
    "length = 0\n",
    "for character in word:\n",
    "    length = length + 1\n",
    "print(\"there are \", length, \"letters in word\")"
   ]
  },
  {
   "cell_type": "code",
   "execution_count": 13,
   "metadata": {
    "collapsed": false
   },
   "outputs": [
    {
     "data": {
      "text/plain": [
       "41"
      ]
     },
     "execution_count": 13,
     "metadata": {},
     "output_type": "execute_result"
    }
   ],
   "source": [
    "len(word)"
   ]
  },
  {
   "cell_type": "code",
   "execution_count": 15,
   "metadata": {
    "collapsed": false
   },
   "outputs": [
    {
     "name": "stdout",
     "output_type": "stream",
     "text": [
      "range(10, 20, 2)\n"
     ]
    }
   ],
   "source": [
    "print(range(10, 20, 2))"
   ]
  },
  {
   "cell_type": "code",
   "execution_count": 16,
   "metadata": {
    "collapsed": false
   },
   "outputs": [
    {
     "name": "stdout",
     "output_type": "stream",
     "text": [
      "10\n",
      "12\n",
      "14\n",
      "16\n",
      "18\n"
     ]
    }
   ],
   "source": [
    "for number in range(10, 20, 2):\n",
    "    print(number)\n",
    "    "
   ]
  },
  {
   "cell_type": "markdown",
   "metadata": {},
   "source": [
    "### Write the cube value of the numbers from 1 to 5"
   ]
  },
  {
   "cell_type": "code",
   "execution_count": 17,
   "metadata": {
    "collapsed": false
   },
   "outputs": [
    {
     "name": "stdout",
     "output_type": "stream",
     "text": [
      "1\n",
      "8\n",
      "27\n",
      "64\n",
      "125\n"
     ]
    }
   ],
   "source": [
    "for number in range(1, 6):\n",
    "    print(number ** 3)\n"
   ]
  },
  {
   "cell_type": "markdown",
   "metadata": {},
   "source": [
    "### Reverse a word (string) using a for loop"
   ]
  },
  {
   "cell_type": "code",
   "execution_count": 20,
   "metadata": {
    "collapsed": false
   },
   "outputs": [
    {
     "name": "stdout",
     "output_type": "stream",
     "text": [
      "evil\n"
     ]
    }
   ],
   "source": [
    "newword = ''\n",
    "myword = 'live'\n",
    "for char in myword:\n",
    "    newword = char + newword\n",
    "print(newword)\n",
    "    "
   ]
  },
  {
   "cell_type": "code",
   "execution_count": 19,
   "metadata": {
    "collapsed": false
   },
   "outputs": [
    {
     "name": "stdout",
     "output_type": "stream",
     "text": [
      "barfoo\n"
     ]
    }
   ],
   "source": [
    "a = 'foo'\n",
    "b = 'bar'\n",
    "c = b + a\n",
    "print(c)"
   ]
  },
  {
   "cell_type": "code",
   "execution_count": 23,
   "metadata": {
    "collapsed": false
   },
   "outputs": [
    {
     "data": {
      "text/plain": [
       "'evil'"
      ]
     },
     "execution_count": 23,
     "metadata": {},
     "output_type": "execute_result"
    }
   ],
   "source": [
    "myword[::-1]"
   ]
  },
  {
   "cell_type": "code",
   "execution_count": 24,
   "metadata": {
    "collapsed": false
   },
   "outputs": [
    {
     "data": {
      "text/plain": [
       "'e'"
      ]
     },
     "execution_count": 24,
     "metadata": {},
     "output_type": "execute_result"
    }
   ],
   "source": [
    "myword[-1]"
   ]
  },
  {
   "cell_type": "code",
   "execution_count": null,
   "metadata": {
    "collapsed": true
   },
   "outputs": [],
   "source": []
  }
 ],
 "metadata": {
  "kernelspec": {
   "display_name": "Python 3",
   "language": "python",
   "name": "python3"
  },
  "language_info": {
   "codemirror_mode": {
    "name": "ipython",
    "version": 3
   },
   "file_extension": ".py",
   "mimetype": "text/x-python",
   "name": "python",
   "nbconvert_exporter": "python",
   "pygments_lexer": "ipython3",
   "version": "3.6.0"
  }
 },
 "nbformat": 4,
 "nbformat_minor": 2
}
